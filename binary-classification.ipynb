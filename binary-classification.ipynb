{
 "cells": [
  {
   "cell_type": "markdown",
   "id": "50501d50",
   "metadata": {
    "papermill": {
     "duration": 0.006621,
     "end_time": "2024-02-10T13:36:59.534608",
     "exception": false,
     "start_time": "2024-02-10T13:36:59.527987",
     "status": "completed"
    },
    "tags": []
   },
   "source": [
    "**This notebook is an exercise in the [Intro to Deep Learning](https://www.kaggle.com/learn/intro-to-deep-learning) course.  You can reference the tutorial at [this link](https://www.kaggle.com/ryanholbrook/binary-classification).**\n",
    "\n",
    "---\n"
   ]
  },
  {
   "cell_type": "markdown",
   "id": "9f7cc3b2",
   "metadata": {
    "papermill": {
     "duration": 0.005813,
     "end_time": "2024-02-10T13:36:59.546861",
     "exception": false,
     "start_time": "2024-02-10T13:36:59.541048",
     "status": "completed"
    },
    "tags": []
   },
   "source": [
    "# Introduction #\n",
    "\n",
    "In this exercise, you'll build a model to predict hotel cancellations with a binary classifier."
   ]
  },
  {
   "cell_type": "code",
   "execution_count": 1,
   "id": "3a077b82",
   "metadata": {
    "execution": {
     "iopub.execute_input": "2024-02-10T13:36:59.561246Z",
     "iopub.status.busy": "2024-02-10T13:36:59.560615Z",
     "iopub.status.idle": "2024-02-10T13:37:00.400714Z",
     "shell.execute_reply": "2024-02-10T13:37:00.399440Z"
    },
    "lines_to_next_cell": 0,
    "papermill": {
     "duration": 0.850834,
     "end_time": "2024-02-10T13:37:00.403629",
     "exception": false,
     "start_time": "2024-02-10T13:36:59.552795",
     "status": "completed"
    },
    "tags": []
   },
   "outputs": [
    {
     "name": "stderr",
     "output_type": "stream",
     "text": [
      "/tmp/ipykernel_19/3338970720.py:3: MatplotlibDeprecationWarning: The seaborn styles shipped by Matplotlib are deprecated since 3.6, as they no longer correspond to the styles shipped by seaborn. However, they will remain available as 'seaborn-v0_8-<style>'. Alternatively, directly use the seaborn API instead.\n",
      "  plt.style.use('seaborn-whitegrid')\n"
     ]
    }
   ],
   "source": [
    "# Setup plotting\n",
    "import matplotlib.pyplot as plt\n",
    "plt.style.use('seaborn-whitegrid')\n",
    "# Set Matplotlib defaults\n",
    "plt.rc('figure', autolayout=True)\n",
    "plt.rc('axes', labelweight='bold', labelsize='large',\n",
    "       titleweight='bold', titlesize=18, titlepad=10)\n",
    "plt.rc('animation', html='html5')\n",
    "\n",
    "# Setup feedback system\n",
    "from learntools.core import binder\n",
    "binder.bind(globals())\n",
    "from learntools.deep_learning_intro.ex6 import *"
   ]
  },
  {
   "cell_type": "markdown",
   "id": "5795e9df",
   "metadata": {
    "papermill": {
     "duration": 0.006298,
     "end_time": "2024-02-10T13:37:00.417006",
     "exception": false,
     "start_time": "2024-02-10T13:37:00.410708",
     "status": "completed"
    },
    "tags": []
   },
   "source": [
    "First, load the *Hotel Cancellations* dataset."
   ]
  },
  {
   "cell_type": "code",
   "execution_count": 2,
   "id": "e45dd719",
   "metadata": {
    "execution": {
     "iopub.execute_input": "2024-02-10T13:37:00.432231Z",
     "iopub.status.busy": "2024-02-10T13:37:00.431693Z",
     "iopub.status.idle": "2024-02-10T13:37:03.473370Z",
     "shell.execute_reply": "2024-02-10T13:37:03.472271Z"
    },
    "lines_to_next_cell": 2,
    "papermill": {
     "duration": 3.052528,
     "end_time": "2024-02-10T13:37:03.475996",
     "exception": false,
     "start_time": "2024-02-10T13:37:00.423468",
     "status": "completed"
    },
    "tags": []
   },
   "outputs": [],
   "source": [
    "import pandas as pd\n",
    "\n",
    "from sklearn.model_selection import train_test_split\n",
    "from sklearn.preprocessing import StandardScaler, OneHotEncoder\n",
    "from sklearn.impute import SimpleImputer\n",
    "from sklearn.pipeline import make_pipeline\n",
    "from sklearn.compose import make_column_transformer\n",
    "\n",
    "hotel = pd.read_csv('../input/dl-course-data/hotel.csv')\n",
    "\n",
    "X = hotel.copy()\n",
    "y = X.pop('is_canceled')\n",
    "\n",
    "X['arrival_date_month'] = \\\n",
    "    X['arrival_date_month'].map(\n",
    "        {'January':1, 'February': 2, 'March':3,\n",
    "         'April':4, 'May':5, 'June':6, 'July':7,\n",
    "         'August':8, 'September':9, 'October':10,\n",
    "         'November':11, 'December':12}\n",
    "    )\n",
    "\n",
    "features_num = [\n",
    "    \"lead_time\", \"arrival_date_week_number\",\n",
    "    \"arrival_date_day_of_month\", \"stays_in_weekend_nights\",\n",
    "    \"stays_in_week_nights\", \"adults\", \"children\", \"babies\",\n",
    "    \"is_repeated_guest\", \"previous_cancellations\",\n",
    "    \"previous_bookings_not_canceled\", \"required_car_parking_spaces\",\n",
    "    \"total_of_special_requests\", \"adr\",\n",
    "]\n",
    "features_cat = [\n",
    "    \"hotel\", \"arrival_date_month\", \"meal\",\n",
    "    \"market_segment\", \"distribution_channel\",\n",
    "    \"reserved_room_type\", \"deposit_type\", \"customer_type\",\n",
    "]\n",
    "\n",
    "transformer_num = make_pipeline(\n",
    "    SimpleImputer(strategy=\"constant\"), # there are a few missing values\n",
    "    StandardScaler(),\n",
    ")\n",
    "transformer_cat = make_pipeline(\n",
    "    SimpleImputer(strategy=\"constant\", fill_value=\"NA\"),\n",
    "    OneHotEncoder(handle_unknown='ignore'),\n",
    ")\n",
    "\n",
    "preprocessor = make_column_transformer(\n",
    "    (transformer_num, features_num),\n",
    "    (transformer_cat, features_cat),\n",
    ")\n",
    "\n",
    "# stratify - make sure classes are evenlly represented across splits\n",
    "X_train, X_valid, y_train, y_valid = \\\n",
    "    train_test_split(X, y, stratify=y, train_size=0.75)\n",
    "\n",
    "X_train = preprocessor.fit_transform(X_train)\n",
    "X_valid = preprocessor.transform(X_valid)\n",
    "\n",
    "input_shape = [X_train.shape[1]]"
   ]
  },
  {
   "cell_type": "code",
   "execution_count": 3,
   "id": "ade41eec",
   "metadata": {
    "execution": {
     "iopub.execute_input": "2024-02-10T13:37:03.491581Z",
     "iopub.status.busy": "2024-02-10T13:37:03.491098Z",
     "iopub.status.idle": "2024-02-10T13:37:03.567738Z",
     "shell.execute_reply": "2024-02-10T13:37:03.566457Z"
    },
    "papermill": {
     "duration": 0.087029,
     "end_time": "2024-02-10T13:37:03.569907",
     "exception": false,
     "start_time": "2024-02-10T13:37:03.482878",
     "status": "completed"
    },
    "tags": []
   },
   "outputs": [
    {
     "data": {
      "text/html": [
       "<div>\n",
       "<style scoped>\n",
       "    .dataframe tbody tr th:only-of-type {\n",
       "        vertical-align: middle;\n",
       "    }\n",
       "\n",
       "    .dataframe tbody tr th {\n",
       "        vertical-align: top;\n",
       "    }\n",
       "\n",
       "    .dataframe thead th {\n",
       "        text-align: right;\n",
       "    }\n",
       "</style>\n",
       "<table border=\"1\" class=\"dataframe\">\n",
       "  <thead>\n",
       "    <tr style=\"text-align: right;\">\n",
       "      <th></th>\n",
       "      <th>hotel</th>\n",
       "      <th>is_canceled</th>\n",
       "      <th>lead_time</th>\n",
       "      <th>arrival_date_year</th>\n",
       "      <th>arrival_date_month</th>\n",
       "      <th>arrival_date_week_number</th>\n",
       "      <th>arrival_date_day_of_month</th>\n",
       "      <th>stays_in_weekend_nights</th>\n",
       "      <th>stays_in_week_nights</th>\n",
       "      <th>adults</th>\n",
       "      <th>...</th>\n",
       "      <th>deposit_type</th>\n",
       "      <th>agent</th>\n",
       "      <th>company</th>\n",
       "      <th>days_in_waiting_list</th>\n",
       "      <th>customer_type</th>\n",
       "      <th>adr</th>\n",
       "      <th>required_car_parking_spaces</th>\n",
       "      <th>total_of_special_requests</th>\n",
       "      <th>reservation_status</th>\n",
       "      <th>reservation_status_date</th>\n",
       "    </tr>\n",
       "  </thead>\n",
       "  <tbody>\n",
       "    <tr>\n",
       "      <th>0</th>\n",
       "      <td>Resort Hotel</td>\n",
       "      <td>0</td>\n",
       "      <td>342</td>\n",
       "      <td>2015</td>\n",
       "      <td>July</td>\n",
       "      <td>27</td>\n",
       "      <td>1</td>\n",
       "      <td>0</td>\n",
       "      <td>0</td>\n",
       "      <td>2</td>\n",
       "      <td>...</td>\n",
       "      <td>No Deposit</td>\n",
       "      <td>NaN</td>\n",
       "      <td>NaN</td>\n",
       "      <td>0</td>\n",
       "      <td>Transient</td>\n",
       "      <td>0.00</td>\n",
       "      <td>0</td>\n",
       "      <td>0</td>\n",
       "      <td>Check-Out</td>\n",
       "      <td>2015-07-01</td>\n",
       "    </tr>\n",
       "    <tr>\n",
       "      <th>1</th>\n",
       "      <td>Resort Hotel</td>\n",
       "      <td>0</td>\n",
       "      <td>737</td>\n",
       "      <td>2015</td>\n",
       "      <td>July</td>\n",
       "      <td>27</td>\n",
       "      <td>1</td>\n",
       "      <td>0</td>\n",
       "      <td>0</td>\n",
       "      <td>2</td>\n",
       "      <td>...</td>\n",
       "      <td>No Deposit</td>\n",
       "      <td>NaN</td>\n",
       "      <td>NaN</td>\n",
       "      <td>0</td>\n",
       "      <td>Transient</td>\n",
       "      <td>0.00</td>\n",
       "      <td>0</td>\n",
       "      <td>0</td>\n",
       "      <td>Check-Out</td>\n",
       "      <td>2015-07-01</td>\n",
       "    </tr>\n",
       "    <tr>\n",
       "      <th>2</th>\n",
       "      <td>Resort Hotel</td>\n",
       "      <td>0</td>\n",
       "      <td>7</td>\n",
       "      <td>2015</td>\n",
       "      <td>July</td>\n",
       "      <td>27</td>\n",
       "      <td>1</td>\n",
       "      <td>0</td>\n",
       "      <td>1</td>\n",
       "      <td>1</td>\n",
       "      <td>...</td>\n",
       "      <td>No Deposit</td>\n",
       "      <td>NaN</td>\n",
       "      <td>NaN</td>\n",
       "      <td>0</td>\n",
       "      <td>Transient</td>\n",
       "      <td>75.00</td>\n",
       "      <td>0</td>\n",
       "      <td>0</td>\n",
       "      <td>Check-Out</td>\n",
       "      <td>2015-07-02</td>\n",
       "    </tr>\n",
       "    <tr>\n",
       "      <th>3</th>\n",
       "      <td>Resort Hotel</td>\n",
       "      <td>0</td>\n",
       "      <td>13</td>\n",
       "      <td>2015</td>\n",
       "      <td>July</td>\n",
       "      <td>27</td>\n",
       "      <td>1</td>\n",
       "      <td>0</td>\n",
       "      <td>1</td>\n",
       "      <td>1</td>\n",
       "      <td>...</td>\n",
       "      <td>No Deposit</td>\n",
       "      <td>304.0</td>\n",
       "      <td>NaN</td>\n",
       "      <td>0</td>\n",
       "      <td>Transient</td>\n",
       "      <td>75.00</td>\n",
       "      <td>0</td>\n",
       "      <td>0</td>\n",
       "      <td>Check-Out</td>\n",
       "      <td>2015-07-02</td>\n",
       "    </tr>\n",
       "    <tr>\n",
       "      <th>4</th>\n",
       "      <td>Resort Hotel</td>\n",
       "      <td>0</td>\n",
       "      <td>14</td>\n",
       "      <td>2015</td>\n",
       "      <td>July</td>\n",
       "      <td>27</td>\n",
       "      <td>1</td>\n",
       "      <td>0</td>\n",
       "      <td>2</td>\n",
       "      <td>2</td>\n",
       "      <td>...</td>\n",
       "      <td>No Deposit</td>\n",
       "      <td>240.0</td>\n",
       "      <td>NaN</td>\n",
       "      <td>0</td>\n",
       "      <td>Transient</td>\n",
       "      <td>98.00</td>\n",
       "      <td>0</td>\n",
       "      <td>1</td>\n",
       "      <td>Check-Out</td>\n",
       "      <td>2015-07-03</td>\n",
       "    </tr>\n",
       "    <tr>\n",
       "      <th>...</th>\n",
       "      <td>...</td>\n",
       "      <td>...</td>\n",
       "      <td>...</td>\n",
       "      <td>...</td>\n",
       "      <td>...</td>\n",
       "      <td>...</td>\n",
       "      <td>...</td>\n",
       "      <td>...</td>\n",
       "      <td>...</td>\n",
       "      <td>...</td>\n",
       "      <td>...</td>\n",
       "      <td>...</td>\n",
       "      <td>...</td>\n",
       "      <td>...</td>\n",
       "      <td>...</td>\n",
       "      <td>...</td>\n",
       "      <td>...</td>\n",
       "      <td>...</td>\n",
       "      <td>...</td>\n",
       "      <td>...</td>\n",
       "      <td>...</td>\n",
       "    </tr>\n",
       "    <tr>\n",
       "      <th>119385</th>\n",
       "      <td>City Hotel</td>\n",
       "      <td>0</td>\n",
       "      <td>23</td>\n",
       "      <td>2017</td>\n",
       "      <td>August</td>\n",
       "      <td>35</td>\n",
       "      <td>30</td>\n",
       "      <td>2</td>\n",
       "      <td>5</td>\n",
       "      <td>2</td>\n",
       "      <td>...</td>\n",
       "      <td>No Deposit</td>\n",
       "      <td>394.0</td>\n",
       "      <td>NaN</td>\n",
       "      <td>0</td>\n",
       "      <td>Transient</td>\n",
       "      <td>96.14</td>\n",
       "      <td>0</td>\n",
       "      <td>0</td>\n",
       "      <td>Check-Out</td>\n",
       "      <td>2017-09-06</td>\n",
       "    </tr>\n",
       "    <tr>\n",
       "      <th>119386</th>\n",
       "      <td>City Hotel</td>\n",
       "      <td>0</td>\n",
       "      <td>102</td>\n",
       "      <td>2017</td>\n",
       "      <td>August</td>\n",
       "      <td>35</td>\n",
       "      <td>31</td>\n",
       "      <td>2</td>\n",
       "      <td>5</td>\n",
       "      <td>3</td>\n",
       "      <td>...</td>\n",
       "      <td>No Deposit</td>\n",
       "      <td>9.0</td>\n",
       "      <td>NaN</td>\n",
       "      <td>0</td>\n",
       "      <td>Transient</td>\n",
       "      <td>225.43</td>\n",
       "      <td>0</td>\n",
       "      <td>2</td>\n",
       "      <td>Check-Out</td>\n",
       "      <td>2017-09-07</td>\n",
       "    </tr>\n",
       "    <tr>\n",
       "      <th>119387</th>\n",
       "      <td>City Hotel</td>\n",
       "      <td>0</td>\n",
       "      <td>34</td>\n",
       "      <td>2017</td>\n",
       "      <td>August</td>\n",
       "      <td>35</td>\n",
       "      <td>31</td>\n",
       "      <td>2</td>\n",
       "      <td>5</td>\n",
       "      <td>2</td>\n",
       "      <td>...</td>\n",
       "      <td>No Deposit</td>\n",
       "      <td>9.0</td>\n",
       "      <td>NaN</td>\n",
       "      <td>0</td>\n",
       "      <td>Transient</td>\n",
       "      <td>157.71</td>\n",
       "      <td>0</td>\n",
       "      <td>4</td>\n",
       "      <td>Check-Out</td>\n",
       "      <td>2017-09-07</td>\n",
       "    </tr>\n",
       "    <tr>\n",
       "      <th>119388</th>\n",
       "      <td>City Hotel</td>\n",
       "      <td>0</td>\n",
       "      <td>109</td>\n",
       "      <td>2017</td>\n",
       "      <td>August</td>\n",
       "      <td>35</td>\n",
       "      <td>31</td>\n",
       "      <td>2</td>\n",
       "      <td>5</td>\n",
       "      <td>2</td>\n",
       "      <td>...</td>\n",
       "      <td>No Deposit</td>\n",
       "      <td>89.0</td>\n",
       "      <td>NaN</td>\n",
       "      <td>0</td>\n",
       "      <td>Transient</td>\n",
       "      <td>104.40</td>\n",
       "      <td>0</td>\n",
       "      <td>0</td>\n",
       "      <td>Check-Out</td>\n",
       "      <td>2017-09-07</td>\n",
       "    </tr>\n",
       "    <tr>\n",
       "      <th>119389</th>\n",
       "      <td>City Hotel</td>\n",
       "      <td>0</td>\n",
       "      <td>205</td>\n",
       "      <td>2017</td>\n",
       "      <td>August</td>\n",
       "      <td>35</td>\n",
       "      <td>29</td>\n",
       "      <td>2</td>\n",
       "      <td>7</td>\n",
       "      <td>2</td>\n",
       "      <td>...</td>\n",
       "      <td>No Deposit</td>\n",
       "      <td>9.0</td>\n",
       "      <td>NaN</td>\n",
       "      <td>0</td>\n",
       "      <td>Transient</td>\n",
       "      <td>151.20</td>\n",
       "      <td>0</td>\n",
       "      <td>2</td>\n",
       "      <td>Check-Out</td>\n",
       "      <td>2017-09-07</td>\n",
       "    </tr>\n",
       "  </tbody>\n",
       "</table>\n",
       "<p>119390 rows × 32 columns</p>\n",
       "</div>"
      ],
      "text/plain": [
       "               hotel  is_canceled  lead_time  arrival_date_year  \\\n",
       "0       Resort Hotel            0        342               2015   \n",
       "1       Resort Hotel            0        737               2015   \n",
       "2       Resort Hotel            0          7               2015   \n",
       "3       Resort Hotel            0         13               2015   \n",
       "4       Resort Hotel            0         14               2015   \n",
       "...              ...          ...        ...                ...   \n",
       "119385    City Hotel            0         23               2017   \n",
       "119386    City Hotel            0        102               2017   \n",
       "119387    City Hotel            0         34               2017   \n",
       "119388    City Hotel            0        109               2017   \n",
       "119389    City Hotel            0        205               2017   \n",
       "\n",
       "       arrival_date_month  arrival_date_week_number  \\\n",
       "0                    July                        27   \n",
       "1                    July                        27   \n",
       "2                    July                        27   \n",
       "3                    July                        27   \n",
       "4                    July                        27   \n",
       "...                   ...                       ...   \n",
       "119385             August                        35   \n",
       "119386             August                        35   \n",
       "119387             August                        35   \n",
       "119388             August                        35   \n",
       "119389             August                        35   \n",
       "\n",
       "        arrival_date_day_of_month  stays_in_weekend_nights  \\\n",
       "0                               1                        0   \n",
       "1                               1                        0   \n",
       "2                               1                        0   \n",
       "3                               1                        0   \n",
       "4                               1                        0   \n",
       "...                           ...                      ...   \n",
       "119385                         30                        2   \n",
       "119386                         31                        2   \n",
       "119387                         31                        2   \n",
       "119388                         31                        2   \n",
       "119389                         29                        2   \n",
       "\n",
       "        stays_in_week_nights  adults  ...  deposit_type  agent company  \\\n",
       "0                          0       2  ...    No Deposit    NaN     NaN   \n",
       "1                          0       2  ...    No Deposit    NaN     NaN   \n",
       "2                          1       1  ...    No Deposit    NaN     NaN   \n",
       "3                          1       1  ...    No Deposit  304.0     NaN   \n",
       "4                          2       2  ...    No Deposit  240.0     NaN   \n",
       "...                      ...     ...  ...           ...    ...     ...   \n",
       "119385                     5       2  ...    No Deposit  394.0     NaN   \n",
       "119386                     5       3  ...    No Deposit    9.0     NaN   \n",
       "119387                     5       2  ...    No Deposit    9.0     NaN   \n",
       "119388                     5       2  ...    No Deposit   89.0     NaN   \n",
       "119389                     7       2  ...    No Deposit    9.0     NaN   \n",
       "\n",
       "       days_in_waiting_list customer_type     adr  \\\n",
       "0                         0     Transient    0.00   \n",
       "1                         0     Transient    0.00   \n",
       "2                         0     Transient   75.00   \n",
       "3                         0     Transient   75.00   \n",
       "4                         0     Transient   98.00   \n",
       "...                     ...           ...     ...   \n",
       "119385                    0     Transient   96.14   \n",
       "119386                    0     Transient  225.43   \n",
       "119387                    0     Transient  157.71   \n",
       "119388                    0     Transient  104.40   \n",
       "119389                    0     Transient  151.20   \n",
       "\n",
       "        required_car_parking_spaces  total_of_special_requests  \\\n",
       "0                                 0                          0   \n",
       "1                                 0                          0   \n",
       "2                                 0                          0   \n",
       "3                                 0                          0   \n",
       "4                                 0                          1   \n",
       "...                             ...                        ...   \n",
       "119385                            0                          0   \n",
       "119386                            0                          2   \n",
       "119387                            0                          4   \n",
       "119388                            0                          0   \n",
       "119389                            0                          2   \n",
       "\n",
       "        reservation_status reservation_status_date  \n",
       "0                Check-Out              2015-07-01  \n",
       "1                Check-Out              2015-07-01  \n",
       "2                Check-Out              2015-07-02  \n",
       "3                Check-Out              2015-07-02  \n",
       "4                Check-Out              2015-07-03  \n",
       "...                    ...                     ...  \n",
       "119385           Check-Out              2017-09-06  \n",
       "119386           Check-Out              2017-09-07  \n",
       "119387           Check-Out              2017-09-07  \n",
       "119388           Check-Out              2017-09-07  \n",
       "119389           Check-Out              2017-09-07  \n",
       "\n",
       "[119390 rows x 32 columns]"
      ]
     },
     "execution_count": 3,
     "metadata": {},
     "output_type": "execute_result"
    }
   ],
   "source": [
    "hotel"
   ]
  },
  {
   "cell_type": "markdown",
   "id": "63cf7b21",
   "metadata": {
    "papermill": {
     "duration": 0.006741,
     "end_time": "2024-02-10T13:37:03.583654",
     "exception": false,
     "start_time": "2024-02-10T13:37:03.576913",
     "status": "completed"
    },
    "tags": []
   },
   "source": [
    "# 1) Define Model #\n",
    "\n",
    "The model we'll use this time will have both batch normalization and dropout layers. To ease reading we've broken the diagram into blocks, but you can define it layer by layer as usual.\n",
    "\n",
    "Define a model with an architecture given by this diagram:\n",
    "\n",
    "<figure style=\"padding: 1em;\">\n",
    "<img src=\"https://storage.googleapis.com/kaggle-media/learn/images/V04o59Z.png\" width=\"400\" alt=\"Diagram of network architecture: BatchNorm, Dense, BatchNorm, Dropout, Dense, BatchNorm, Dropout, Dense.\">\n",
    "<figcaption style=\"textalign: center; font-style: italic\"><center>Diagram of a binary classifier.</center></figcaption>\n",
    "</figure>\n"
   ]
  },
  {
   "cell_type": "code",
   "execution_count": 4,
   "id": "b756d9dd",
   "metadata": {
    "execution": {
     "iopub.execute_input": "2024-02-10T13:37:03.599707Z",
     "iopub.status.busy": "2024-02-10T13:37:03.598692Z",
     "iopub.status.idle": "2024-02-10T13:37:17.623902Z",
     "shell.execute_reply": "2024-02-10T13:37:17.622788Z"
    },
    "lines_to_next_cell": 2,
    "papermill": {
     "duration": 14.035653,
     "end_time": "2024-02-10T13:37:17.626226",
     "exception": false,
     "start_time": "2024-02-10T13:37:03.590573",
     "status": "completed"
    },
    "tags": []
   },
   "outputs": [
    {
     "name": "stderr",
     "output_type": "stream",
     "text": [
      "2024-02-10 13:37:05.540002: E external/local_xla/xla/stream_executor/cuda/cuda_dnn.cc:9261] Unable to register cuDNN factory: Attempting to register factory for plugin cuDNN when one has already been registered\n",
      "2024-02-10 13:37:05.540133: E external/local_xla/xla/stream_executor/cuda/cuda_fft.cc:607] Unable to register cuFFT factory: Attempting to register factory for plugin cuFFT when one has already been registered\n",
      "2024-02-10 13:37:05.675323: E external/local_xla/xla/stream_executor/cuda/cuda_blas.cc:1515] Unable to register cuBLAS factory: Attempting to register factory for plugin cuBLAS when one has already been registered\n"
     ]
    },
    {
     "data": {
      "application/javascript": [
       "parent.postMessage({\"jupyterEvent\": \"custom.exercise_interaction\", \"data\": {\"outcomeType\": 1, \"valueTowardsCompletion\": 0.3333333333333333, \"interactionType\": 1, \"questionType\": 2, \"questionId\": \"1_Q1\", \"learnToolsVersion\": \"0.3.4\", \"failureMessage\": \"\", \"exceptionClass\": \"\", \"trace\": \"\"}}, \"*\")"
      ],
      "text/plain": [
       "<IPython.core.display.Javascript object>"
      ]
     },
     "metadata": {},
     "output_type": "display_data"
    },
    {
     "data": {
      "text/markdown": [
       "<span style=\"color:#33cc33\">Correct</span>"
      ],
      "text/plain": [
       "Correct"
      ]
     },
     "metadata": {},
     "output_type": "display_data"
    }
   ],
   "source": [
    "from tensorflow import keras\n",
    "from tensorflow.keras import layers\n",
    "\n",
    "# YOUR CODE HERE: define the model given in the diagram\n",
    "model = keras.Sequential([\n",
    "    layers.BatchNormalization(input_shape=input_shape),\n",
    "    layers.Dense(256, activation='relu'),\n",
    "    layers.BatchNormalization(),\n",
    "    layers.Dropout(0.3),\n",
    "    layers.Dense(256, activation='relu'),\n",
    "    layers.BatchNormalization(),\n",
    "    layers.Dropout(0.3),\n",
    "    layers.Dense(1, activation='sigmoid'),\n",
    "])\n",
    "\n",
    "# Check your answer\n",
    "q_1.check()"
   ]
  },
  {
   "cell_type": "markdown",
   "id": "238b168b",
   "metadata": {
    "papermill": {
     "duration": 0.007464,
     "end_time": "2024-02-10T13:37:17.641242",
     "exception": false,
     "start_time": "2024-02-10T13:37:17.633778",
     "status": "completed"
    },
    "tags": []
   },
   "source": [
    "# 2) Add Optimizer, Loss, and Metric #\n",
    "\n",
    "Now compile the model with the Adam optimizer and binary versions of the cross-entropy loss and accuracy metric."
   ]
  },
  {
   "cell_type": "code",
   "execution_count": 5,
   "id": "07ec75a4",
   "metadata": {
    "execution": {
     "iopub.execute_input": "2024-02-10T13:37:17.657951Z",
     "iopub.status.busy": "2024-02-10T13:37:17.657528Z",
     "iopub.status.idle": "2024-02-10T13:37:17.682391Z",
     "shell.execute_reply": "2024-02-10T13:37:17.681595Z"
    },
    "lines_to_next_cell": 0,
    "papermill": {
     "duration": 0.036408,
     "end_time": "2024-02-10T13:37:17.685140",
     "exception": false,
     "start_time": "2024-02-10T13:37:17.648732",
     "status": "completed"
    },
    "tags": []
   },
   "outputs": [
    {
     "data": {
      "application/javascript": [
       "parent.postMessage({\"jupyterEvent\": \"custom.exercise_interaction\", \"data\": {\"outcomeType\": 1, \"valueTowardsCompletion\": 0.3333333333333333, \"interactionType\": 1, \"questionType\": 2, \"questionId\": \"2_Q2\", \"learnToolsVersion\": \"0.3.4\", \"failureMessage\": \"\", \"exceptionClass\": \"\", \"trace\": \"\"}}, \"*\")"
      ],
      "text/plain": [
       "<IPython.core.display.Javascript object>"
      ]
     },
     "metadata": {},
     "output_type": "display_data"
    },
    {
     "data": {
      "text/markdown": [
       "<span style=\"color:#33cc33\">Correct</span>"
      ],
      "text/plain": [
       "Correct"
      ]
     },
     "metadata": {},
     "output_type": "display_data"
    }
   ],
   "source": [
    "# YOUR CODE HERE\n",
    "\n",
    "model.compile(\n",
    "    optimizer='adam',\n",
    "    loss='binary_crossentropy',\n",
    "    metrics=['binary_accuracy'],\n",
    ")\n",
    "\n",
    "# Check your answer\n",
    "q_2.check()"
   ]
  },
  {
   "cell_type": "code",
   "execution_count": 6,
   "id": "855da037",
   "metadata": {
    "execution": {
     "iopub.execute_input": "2024-02-10T13:37:17.702520Z",
     "iopub.status.busy": "2024-02-10T13:37:17.702145Z",
     "iopub.status.idle": "2024-02-10T13:37:17.706808Z",
     "shell.execute_reply": "2024-02-10T13:37:17.705802Z"
    },
    "lines_to_next_cell": 0,
    "papermill": {
     "duration": 0.015881,
     "end_time": "2024-02-10T13:37:17.709011",
     "exception": false,
     "start_time": "2024-02-10T13:37:17.693130",
     "status": "completed"
    },
    "tags": []
   },
   "outputs": [],
   "source": [
    "# Lines below will give you a hint or solution code\n",
    "#q_2.hint()\n",
    "#q_2.solution()"
   ]
  },
  {
   "cell_type": "markdown",
   "id": "56a107b7",
   "metadata": {
    "papermill": {
     "duration": 0.007592,
     "end_time": "2024-02-10T13:37:17.724375",
     "exception": false,
     "start_time": "2024-02-10T13:37:17.716783",
     "status": "completed"
    },
    "tags": []
   },
   "source": [
    "Finally, run this cell to train the model and view the learning curves. It may run for around 60 to 70 epochs, which could take a minute or two."
   ]
  },
  {
   "cell_type": "code",
   "execution_count": 7,
   "id": "1685d39b",
   "metadata": {
    "execution": {
     "iopub.execute_input": "2024-02-10T13:37:17.742117Z",
     "iopub.status.busy": "2024-02-10T13:37:17.741315Z",
     "iopub.status.idle": "2024-02-10T13:38:53.071133Z",
     "shell.execute_reply": "2024-02-10T13:38:53.069961Z"
    },
    "papermill": {
     "duration": 95.341688,
     "end_time": "2024-02-10T13:38:53.073773",
     "exception": false,
     "start_time": "2024-02-10T13:37:17.732085",
     "status": "completed"
    },
    "tags": []
   },
   "outputs": [
    {
     "name": "stdout",
     "output_type": "stream",
     "text": [
      "Epoch 1/200\n",
      "175/175 [==============================] - 5s 15ms/step - loss: 0.4886 - binary_accuracy: 0.7668 - val_loss: 0.4321 - val_binary_accuracy: 0.8079\n",
      "Epoch 2/200\n",
      "175/175 [==============================] - 3s 14ms/step - loss: 0.4261 - binary_accuracy: 0.7994 - val_loss: 0.3996 - val_binary_accuracy: 0.8145\n",
      "Epoch 3/200\n",
      "175/175 [==============================] - 2s 13ms/step - loss: 0.4114 - binary_accuracy: 0.8073 - val_loss: 0.3908 - val_binary_accuracy: 0.8200\n",
      "Epoch 4/200\n",
      "175/175 [==============================] - 2s 13ms/step - loss: 0.4043 - binary_accuracy: 0.8106 - val_loss: 0.3861 - val_binary_accuracy: 0.8235\n",
      "Epoch 5/200\n",
      "175/175 [==============================] - 2s 13ms/step - loss: 0.4003 - binary_accuracy: 0.8124 - val_loss: 0.3828 - val_binary_accuracy: 0.8243\n",
      "Epoch 6/200\n",
      "175/175 [==============================] - 2s 13ms/step - loss: 0.3962 - binary_accuracy: 0.8158 - val_loss: 0.3791 - val_binary_accuracy: 0.8250\n",
      "Epoch 7/200\n",
      "175/175 [==============================] - 2s 13ms/step - loss: 0.3921 - binary_accuracy: 0.8169 - val_loss: 0.3801 - val_binary_accuracy: 0.8257\n",
      "Epoch 8/200\n",
      "175/175 [==============================] - 2s 13ms/step - loss: 0.3884 - binary_accuracy: 0.8198 - val_loss: 0.3738 - val_binary_accuracy: 0.8296\n",
      "Epoch 9/200\n",
      "175/175 [==============================] - 2s 13ms/step - loss: 0.3851 - binary_accuracy: 0.8199 - val_loss: 0.3688 - val_binary_accuracy: 0.8291\n",
      "Epoch 10/200\n",
      "175/175 [==============================] - 2s 13ms/step - loss: 0.3819 - binary_accuracy: 0.8223 - val_loss: 0.3690 - val_binary_accuracy: 0.8311\n",
      "Epoch 11/200\n",
      "175/175 [==============================] - 2s 13ms/step - loss: 0.3791 - binary_accuracy: 0.8230 - val_loss: 0.3691 - val_binary_accuracy: 0.8315\n",
      "Epoch 12/200\n",
      "175/175 [==============================] - 2s 14ms/step - loss: 0.3769 - binary_accuracy: 0.8243 - val_loss: 0.3656 - val_binary_accuracy: 0.8349\n",
      "Epoch 13/200\n",
      "175/175 [==============================] - 2s 13ms/step - loss: 0.3744 - binary_accuracy: 0.8261 - val_loss: 0.3640 - val_binary_accuracy: 0.8338\n",
      "Epoch 14/200\n",
      "175/175 [==============================] - 2s 13ms/step - loss: 0.3728 - binary_accuracy: 0.8268 - val_loss: 0.3607 - val_binary_accuracy: 0.8350\n",
      "Epoch 15/200\n",
      "175/175 [==============================] - 2s 13ms/step - loss: 0.3716 - binary_accuracy: 0.8279 - val_loss: 0.3621 - val_binary_accuracy: 0.8365\n",
      "Epoch 16/200\n",
      "175/175 [==============================] - 2s 14ms/step - loss: 0.3689 - binary_accuracy: 0.8291 - val_loss: 0.3562 - val_binary_accuracy: 0.8363\n",
      "Epoch 17/200\n",
      "175/175 [==============================] - 2s 14ms/step - loss: 0.3673 - binary_accuracy: 0.8290 - val_loss: 0.3602 - val_binary_accuracy: 0.8358\n",
      "Epoch 18/200\n",
      "175/175 [==============================] - 2s 13ms/step - loss: 0.3656 - binary_accuracy: 0.8310 - val_loss: 0.3591 - val_binary_accuracy: 0.8362\n",
      "Epoch 19/200\n",
      "175/175 [==============================] - 2s 13ms/step - loss: 0.3636 - binary_accuracy: 0.8311 - val_loss: 0.3553 - val_binary_accuracy: 0.8372\n",
      "Epoch 20/200\n",
      "175/175 [==============================] - 2s 13ms/step - loss: 0.3605 - binary_accuracy: 0.8325 - val_loss: 0.3549 - val_binary_accuracy: 0.8375\n",
      "Epoch 21/200\n",
      "175/175 [==============================] - 2s 13ms/step - loss: 0.3601 - binary_accuracy: 0.8329 - val_loss: 0.3536 - val_binary_accuracy: 0.8390\n",
      "Epoch 22/200\n",
      "175/175 [==============================] - 2s 13ms/step - loss: 0.3577 - binary_accuracy: 0.8343 - val_loss: 0.3527 - val_binary_accuracy: 0.8383\n",
      "Epoch 23/200\n",
      "175/175 [==============================] - 2s 14ms/step - loss: 0.3570 - binary_accuracy: 0.8339 - val_loss: 0.3518 - val_binary_accuracy: 0.8392\n",
      "Epoch 24/200\n",
      "175/175 [==============================] - 2s 13ms/step - loss: 0.3559 - binary_accuracy: 0.8346 - val_loss: 0.3496 - val_binary_accuracy: 0.8407\n",
      "Epoch 25/200\n",
      "175/175 [==============================] - 2s 14ms/step - loss: 0.3545 - binary_accuracy: 0.8346 - val_loss: 0.3531 - val_binary_accuracy: 0.8405\n",
      "Epoch 26/200\n",
      "175/175 [==============================] - 2s 13ms/step - loss: 0.3523 - binary_accuracy: 0.8356 - val_loss: 0.3483 - val_binary_accuracy: 0.8418\n",
      "Epoch 27/200\n",
      "175/175 [==============================] - 2s 13ms/step - loss: 0.3518 - binary_accuracy: 0.8371 - val_loss: 0.3484 - val_binary_accuracy: 0.8406\n",
      "Epoch 28/200\n",
      "175/175 [==============================] - 2s 13ms/step - loss: 0.3510 - binary_accuracy: 0.8368 - val_loss: 0.3482 - val_binary_accuracy: 0.8412\n",
      "Epoch 29/200\n",
      "175/175 [==============================] - 2s 13ms/step - loss: 0.3505 - binary_accuracy: 0.8386 - val_loss: 0.3500 - val_binary_accuracy: 0.8403\n",
      "Epoch 30/200\n",
      "175/175 [==============================] - 3s 14ms/step - loss: 0.3492 - binary_accuracy: 0.8379 - val_loss: 0.3489 - val_binary_accuracy: 0.8427\n",
      "Epoch 31/200\n",
      "175/175 [==============================] - 2s 13ms/step - loss: 0.3478 - binary_accuracy: 0.8389 - val_loss: 0.3458 - val_binary_accuracy: 0.8433\n",
      "Epoch 32/200\n",
      "175/175 [==============================] - 2s 13ms/step - loss: 0.3477 - binary_accuracy: 0.8391 - val_loss: 0.3468 - val_binary_accuracy: 0.8412\n",
      "Epoch 33/200\n",
      "175/175 [==============================] - 2s 14ms/step - loss: 0.3456 - binary_accuracy: 0.8397 - val_loss: 0.3451 - val_binary_accuracy: 0.8427\n",
      "Epoch 34/200\n",
      "175/175 [==============================] - 2s 13ms/step - loss: 0.3452 - binary_accuracy: 0.8414 - val_loss: 0.3463 - val_binary_accuracy: 0.8435\n",
      "Epoch 35/200\n",
      "175/175 [==============================] - 2s 13ms/step - loss: 0.3441 - binary_accuracy: 0.8418 - val_loss: 0.3443 - val_binary_accuracy: 0.8422\n",
      "Epoch 36/200\n",
      "175/175 [==============================] - 2s 13ms/step - loss: 0.3431 - binary_accuracy: 0.8418 - val_loss: 0.3441 - val_binary_accuracy: 0.8419\n",
      "Epoch 37/200\n",
      "175/175 [==============================] - 2s 13ms/step - loss: 0.3427 - binary_accuracy: 0.8415 - val_loss: 0.3440 - val_binary_accuracy: 0.8434\n",
      "Epoch 38/200\n",
      "175/175 [==============================] - 2s 13ms/step - loss: 0.3413 - binary_accuracy: 0.8424 - val_loss: 0.3479 - val_binary_accuracy: 0.8424\n",
      "Epoch 39/200\n",
      "175/175 [==============================] - 2s 13ms/step - loss: 0.3421 - binary_accuracy: 0.8420 - val_loss: 0.3447 - val_binary_accuracy: 0.8445\n",
      "Epoch 40/200\n",
      "175/175 [==============================] - 2s 13ms/step - loss: 0.3420 - binary_accuracy: 0.8418 - val_loss: 0.3453 - val_binary_accuracy: 0.8424\n"
     ]
    },
    {
     "data": {
      "text/plain": [
       "<Axes: title={'center': 'Accuracy'}>"
      ]
     },
     "execution_count": 7,
     "metadata": {},
     "output_type": "execute_result"
    },
    {
     "data": {
      "image/png": "[encoded data removed]",
      "text/plain": [
       "<Figure size 640x480 with 1 Axes>"
      ]
     },
     "metadata": {},
     "output_type": "display_data"
    },
    {
     "data": {
      "image/png": "[encoded data removed]",
      "text/plain": [
       "<Figure size 640x480 with 1 Axes>"
      ]
     },
     "metadata": {},
     "output_type": "display_data"
    }
   ],
   "source": [
    "early_stopping = keras.callbacks.EarlyStopping(\n",
    "    patience=5,\n",
    "    min_delta=0.001,\n",
    "    restore_best_weights=True,\n",
    ")\n",
    "history = model.fit(\n",
    "    X_train, y_train,\n",
    "    validation_data=(X_valid, y_valid),\n",
    "    batch_size=512,\n",
    "    epochs=200,\n",
    "    callbacks=[early_stopping],\n",
    ")\n",
    "\n",
    "history_df = pd.DataFrame(history.history)\n",
    "history_df.loc[:, ['loss', 'val_loss']].plot(title=\"Cross-entropy\")\n",
    "history_df.loc[:, ['binary_accuracy', 'val_binary_accuracy']].plot(title=\"Accuracy\")"
   ]
  },
  {
   "cell_type": "markdown",
   "id": "a21d34fa",
   "metadata": {
    "papermill": {
     "duration": 0.216746,
     "end_time": "2024-02-10T13:38:53.443515",
     "exception": false,
     "start_time": "2024-02-10T13:38:53.226769",
     "status": "completed"
    },
    "tags": []
   },
   "source": [
    "# 3) Train and Evaluate #\n",
    "\n",
    "\n",
    "What do you think about the learning curves? Does it look like the model underfit or overfit? Was the cross-entropy loss a good stand-in for accuracy?"
   ]
  },
  {
   "cell_type": "code",
   "execution_count": 8,
   "id": "980a2b1e",
   "metadata": {
    "execution": {
     "iopub.execute_input": "2024-02-10T13:38:53.753031Z",
     "iopub.status.busy": "2024-02-10T13:38:53.752600Z",
     "iopub.status.idle": "2024-02-10T13:38:53.761711Z",
     "shell.execute_reply": "2024-02-10T13:38:53.760533Z"
    },
    "papermill": {
     "duration": 0.16697,
     "end_time": "2024-02-10T13:38:53.764071",
     "exception": false,
     "start_time": "2024-02-10T13:38:53.597101",
     "status": "completed"
    },
    "tags": []
   },
   "outputs": [
    {
     "data": {
      "application/javascript": [
       "parent.postMessage({\"jupyterEvent\": \"custom.exercise_interaction\", \"data\": {\"outcomeType\": 1, \"valueTowardsCompletion\": 0.3333333333333333, \"interactionType\": 1, \"questionType\": 4, \"questionId\": \"3_Q3\", \"learnToolsVersion\": \"0.3.4\", \"failureMessage\": \"\", \"exceptionClass\": \"\", \"trace\": \"\"}}, \"*\")"
      ],
      "text/plain": [
       "<IPython.core.display.Javascript object>"
      ]
     },
     "metadata": {},
     "output_type": "display_data"
    },
    {
     "data": {
      "text/markdown": [
       "<span style=\"color:#33cc33\">Correct:</span> \n",
       "\n",
       "Though we can see the training loss continuing to fall, the early stopping callback prevented any overfitting. Moreover, the accuracy rose at the same rate as the cross-entropy fell, so it appears that minimizing cross-entropy was a good stand-in. All in all, it looks like this training was a success!"
      ],
      "text/plain": [
       "Correct: \n",
       "\n",
       "Though we can see the training loss continuing to fall, the early stopping callback prevented any overfitting. Moreover, the accuracy rose at the same rate as the cross-entropy fell, so it appears that minimizing cross-entropy was a good stand-in. All in all, it looks like this training was a success!"
      ]
     },
     "metadata": {},
     "output_type": "display_data"
    }
   ],
   "source": [
    "# View the solution (Run this cell to receive credit!)\n",
    "q_3.check()"
   ]
  },
  {
   "cell_type": "code",
   "execution_count": 9,
   "id": "50303976",
   "metadata": {
    "execution": {
     "iopub.execute_input": "2024-02-10T13:38:54.071892Z",
     "iopub.status.busy": "2024-02-10T13:38:54.071445Z",
     "iopub.status.idle": "2024-02-10T13:39:10.785504Z",
     "shell.execute_reply": "2024-02-10T13:39:10.784347Z"
    },
    "papermill": {
     "duration": 16.871206,
     "end_time": "2024-02-10T13:39:10.788004",
     "exception": false,
     "start_time": "2024-02-10T13:38:53.916798",
     "status": "completed"
    },
    "tags": []
   },
   "outputs": [
    {
     "name": "stdout",
     "output_type": "stream",
     "text": [
      "Epoch 1/200\n",
      "175/175 [==============================] - 2s 13ms/step - loss: 0.3427 - binary_accuracy: 0.8397 - val_loss: 0.3435 - val_binary_accuracy: 0.8429\n",
      "Epoch 2/200\n",
      "175/175 [==============================] - 2s 13ms/step - loss: 0.3432 - binary_accuracy: 0.8411 - val_loss: 0.3434 - val_binary_accuracy: 0.8426\n",
      "Epoch 3/200\n",
      "175/175 [==============================] - 3s 14ms/step - loss: 0.3412 - binary_accuracy: 0.8435 - val_loss: 0.3433 - val_binary_accuracy: 0.8434\n",
      "Epoch 4/200\n",
      "175/175 [==============================] - 2s 13ms/step - loss: 0.3404 - binary_accuracy: 0.8433 - val_loss: 0.3425 - val_binary_accuracy: 0.8446\n",
      "Epoch 5/200\n",
      "175/175 [==============================] - 2s 13ms/step - loss: 0.3389 - binary_accuracy: 0.8438 - val_loss: 0.3428 - val_binary_accuracy: 0.8436\n",
      "Epoch 6/200\n",
      "175/175 [==============================] - 2s 13ms/step - loss: 0.3393 - binary_accuracy: 0.8424 - val_loss: 0.3439 - val_binary_accuracy: 0.8430\n",
      "933/933 [==============================] - 2s 2ms/step\n"
     ]
    },
    {
     "data": {
      "text/html": [
       "<div>\n",
       "<style scoped>\n",
       "    .dataframe tbody tr th:only-of-type {\n",
       "        vertical-align: middle;\n",
       "    }\n",
       "\n",
       "    .dataframe tbody tr th {\n",
       "        vertical-align: top;\n",
       "    }\n",
       "\n",
       "    .dataframe thead th {\n",
       "        text-align: right;\n",
       "    }\n",
       "</style>\n",
       "<table border=\"1\" class=\"dataframe\">\n",
       "  <thead>\n",
       "    <tr style=\"text-align: right;\">\n",
       "      <th></th>\n",
       "      <th>Actual_is_cancelled</th>\n",
       "      <th>Predicted_is_cancelled</th>\n",
       "    </tr>\n",
       "  </thead>\n",
       "  <tbody>\n",
       "    <tr>\n",
       "      <th>90702</th>\n",
       "      <td>0</td>\n",
       "      <td>0</td>\n",
       "    </tr>\n",
       "    <tr>\n",
       "      <th>101333</th>\n",
       "      <td>0</td>\n",
       "      <td>0</td>\n",
       "    </tr>\n",
       "    <tr>\n",
       "      <th>107377</th>\n",
       "      <td>0</td>\n",
       "      <td>0</td>\n",
       "    </tr>\n",
       "    <tr>\n",
       "      <th>38088</th>\n",
       "      <td>0</td>\n",
       "      <td>0</td>\n",
       "    </tr>\n",
       "    <tr>\n",
       "      <th>27590</th>\n",
       "      <td>0</td>\n",
       "      <td>0</td>\n",
       "    </tr>\n",
       "    <tr>\n",
       "      <th>...</th>\n",
       "      <td>...</td>\n",
       "      <td>...</td>\n",
       "    </tr>\n",
       "    <tr>\n",
       "      <th>89980</th>\n",
       "      <td>0</td>\n",
       "      <td>0</td>\n",
       "    </tr>\n",
       "    <tr>\n",
       "      <th>33841</th>\n",
       "      <td>0</td>\n",
       "      <td>0</td>\n",
       "    </tr>\n",
       "    <tr>\n",
       "      <th>115765</th>\n",
       "      <td>0</td>\n",
       "      <td>0</td>\n",
       "    </tr>\n",
       "    <tr>\n",
       "      <th>63545</th>\n",
       "      <td>1</td>\n",
       "      <td>0</td>\n",
       "    </tr>\n",
       "    <tr>\n",
       "      <th>110597</th>\n",
       "      <td>0</td>\n",
       "      <td>0</td>\n",
       "    </tr>\n",
       "  </tbody>\n",
       "</table>\n",
       "<p>29848 rows × 2 columns</p>\n",
       "</div>"
      ],
      "text/plain": [
       "        Actual_is_cancelled  Predicted_is_cancelled\n",
       "90702                     0                       0\n",
       "101333                    0                       0\n",
       "107377                    0                       0\n",
       "38088                     0                       0\n",
       "27590                     0                       0\n",
       "...                     ...                     ...\n",
       "89980                     0                       0\n",
       "33841                     0                       0\n",
       "115765                    0                       0\n",
       "63545                     1                       0\n",
       "110597                    0                       0\n",
       "\n",
       "[29848 rows x 2 columns]"
      ]
     },
     "execution_count": 9,
     "metadata": {},
     "output_type": "execute_result"
    }
   ],
   "source": [
    "# Use the trained model to predict on validation data\n",
    "\n",
    "\n",
    "model.fit(\n",
    "    X_train, y_train,\n",
    "    validation_data=(X_valid, y_valid),\n",
    "    batch_size=512,\n",
    "    epochs=200,\n",
    "    callbacks=[early_stopping],\n",
    ")\n",
    "\n",
    "y_pred_prob = model.predict(X_valid)\n",
    "\n",
    "\n",
    "# Convert predicted probabilities to binary values\n",
    "y_pred = (y_pred_prob > 0.5).astype(int)\n",
    "\n",
    "# Create a DataFrame with validation data and predicted values\n",
    "df_predicted = pd.DataFrame({\n",
    "    'Actual_is_cancelled': y_valid,\n",
    "    'Predicted_is_cancelled': y_pred.flatten()\n",
    "})\n",
    "\n",
    "# Display the new DataFrame\n",
    "df_predicted"
   ]
  },
  {
   "cell_type": "code",
   "execution_count": 10,
   "id": "0d206ba8",
   "metadata": {
    "execution": {
     "iopub.execute_input": "2024-02-10T13:39:11.152552Z",
     "iopub.status.busy": "2024-02-10T13:39:11.151913Z",
     "iopub.status.idle": "2024-02-10T13:39:11.163059Z",
     "shell.execute_reply": "2024-02-10T13:39:11.161744Z"
    },
    "papermill": {
     "duration": 0.196245,
     "end_time": "2024-02-10T13:39:11.165690",
     "exception": false,
     "start_time": "2024-02-10T13:39:10.969445",
     "status": "completed"
    },
    "tags": []
   },
   "outputs": [
    {
     "name": "stdout",
     "output_type": "stream",
     "text": [
      "Accuracy: 0.8428705440900562\n"
     ]
    }
   ],
   "source": [
    "from sklearn.metrics import accuracy_score\n",
    "\n",
    "# Calculate accuracy\n",
    "accuracy = accuracy_score(y_valid, y_pred)\n",
    "print(\"Accuracy:\", accuracy)"
   ]
  },
  {
   "cell_type": "markdown",
   "id": "21f97b2b",
   "metadata": {
    "papermill": {
     "duration": 0.177833,
     "end_time": "2024-02-10T13:39:11.523966",
     "exception": false,
     "start_time": "2024-02-10T13:39:11.346133",
     "status": "completed"
    },
    "tags": []
   },
   "source": [
    "# Conclusion #\n",
    "\n",
    "Congratulations! You've completed Kaggle's *Introduction to Deep Learning* course!\n",
    "\n",
    "With your new skills you're ready to take on more advanced applications like computer vision and sentiment classification. What would you like to do next?\n",
    "\n",
    "Why not try one of our *Getting Started* competitions?\n",
    "\n",
    "- Classify images with TPUs in [**Petals to the Metal**](https://www.kaggle.com/c/tpu-getting-started)\n",
    "- Create art with GANs in [**I'm Something of a Painter Myself**](https://www.kaggle.com/c/gan-getting-started)\n",
    "- Classify Tweets in [**Real or Not? NLP with Disaster Tweets**](https://www.kaggle.com/c/nlp-getting-started)\n",
    "- Detect contradiction and entailment in [**Contradictory, My Dear Watson**](https://www.kaggle.com/c/contradictory-my-dear-watson)\n",
    "\n",
    "Until next time, Kagglers!"
   ]
  },
  {
   "cell_type": "markdown",
   "id": "c51f64be",
   "metadata": {
    "papermill": {
     "duration": 0.178332,
     "end_time": "2024-02-10T13:39:11.880799",
     "exception": false,
     "start_time": "2024-02-10T13:39:11.702467",
     "status": "completed"
    },
    "tags": []
   },
   "source": [
    "---\n",
    "\n",
    "\n",
    "\n",
    "\n",
    "*Have questions or comments? Visit the [course discussion forum](https://www.kaggle.com/learn/intro-to-deep-learning/discussion) to chat with other learners.*"
   ]
  }
 ],
 "metadata": {
  "jupytext": {
   "cell_metadata_filter": "-all",
   "formats": "ipynb"
  },
  "kaggle": {
   "accelerator": "gpu",
   "dataSources": [
    {
     "datasetId": 829369,
     "sourceId": 1480608,
     "sourceType": "datasetVersion"
    }
   ],
   "isGpuEnabled": true,
   "isInternetEnabled": false,
   "language": "python",
   "sourceType": "notebook"
  },
  "kernelspec": {
   "display_name": "Python 3",
   "language": "python",
   "name": "python3"
  },
  "language_info": {
   "codemirror_mode": {
    "name": "ipython",
    "version": 3
   },
   "file_extension": ".py",
   "mimetype": "text/x-python",
   "name": "python",
   "nbconvert_exporter": "python",
   "pygments_lexer": "ipython3",
   "version": "3.10.13"
  },
  "papermill": {
   "default_parameters": {},
   "duration": 138.168263,
   "end_time": "2024-02-10T13:39:14.774146",
   "environment_variables": {},
   "exception": null,
   "input_path": "__notebook__.ipynb",
   "output_path": "__notebook__.ipynb",
   "parameters": {},
   "start_time": "2024-02-10T13:36:56.605883",
   "version": "2.5.0"
  }
 },
 "nbformat": 4,
 "nbformat_minor": 5
}
